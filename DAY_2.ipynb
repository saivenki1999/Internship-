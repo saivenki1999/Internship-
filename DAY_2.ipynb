{
  "nbformat": 4,
  "nbformat_minor": 0,
  "metadata": {
    "colab": {
      "provenance": []
    },
    "kernelspec": {
      "name": "python3",
      "display_name": "Python 3"
    },
    "language_info": {
      "name": "python"
    }
  },
  "cells": [
    {
      "cell_type": "code",
      "execution_count": 1,
      "metadata": {
        "colab": {
          "base_uri": "https://localhost:8080/"
        },
        "id": "QL-GRsuq8OyT",
        "outputId": "44de9566-6e65-4e95-ce6f-63be5ad73c85"
      },
      "outputs": [
        {
          "output_type": "stream",
          "name": "stdout",
          "text": [
            "[ 1.   2.  35.7  4. ]\n"
          ]
        }
      ],
      "source": [
        "import numpy as sa\n",
        "from numpy import *\n",
        "arr=sa.array([1,2,35.7,4])\n",
        "print(arr)"
      ]
    },
    {
      "cell_type": "code",
      "source": [
        "print(arr.dtype)"
      ],
      "metadata": {
        "colab": {
          "base_uri": "https://localhost:8080/"
        },
        "id": "nAn8QkBm8vI_",
        "outputId": "d986fcc6-806a-44f2-b109-817d95a6c8dd"
      },
      "execution_count": 3,
      "outputs": [
        {
          "output_type": "stream",
          "name": "stdout",
          "text": [
            "float64\n"
          ]
        }
      ]
    },
    {
      "cell_type": "code",
      "source": [
        "arr= zeros([2,3,6],int)\n",
        "print(arr.dtype)\n",
        "print(arr)"
      ],
      "metadata": {
        "colab": {
          "base_uri": "https://localhost:8080/"
        },
        "id": "vfHcFpsp-qE5",
        "outputId": "95575e89-40d0-485d-fd3a-fbb8fcde0a6f"
      },
      "execution_count": 5,
      "outputs": [
        {
          "output_type": "stream",
          "name": "stdout",
          "text": [
            "int64\n",
            "[[[0 0 0 0 0 0]\n",
            "  [0 0 0 0 0 0]\n",
            "  [0 0 0 0 0 0]]\n",
            "\n",
            " [[0 0 0 0 0 0]\n",
            "  [0 0 0 0 0 0]\n",
            "  [0 0 0 0 0 0]]]\n"
          ]
        }
      ]
    },
    {
      "cell_type": "code",
      "source": [
        "arr= ones([2,4,6],int)\n",
        "print(arr.dtype)\n",
        "print(arr)"
      ],
      "metadata": {
        "colab": {
          "base_uri": "https://localhost:8080/"
        },
        "id": "NyVXByZu_eXi",
        "outputId": "e047caf4-b412-436c-881c-261fc9c37a04"
      },
      "execution_count": 17,
      "outputs": [
        {
          "output_type": "stream",
          "name": "stdout",
          "text": [
            "int64\n",
            "[[[1 1 1 1 1 1]\n",
            "  [1 1 1 1 1 1]\n",
            "  [1 1 1 1 1 1]\n",
            "  [1 1 1 1 1 1]]\n",
            "\n",
            " [[1 1 1 1 1 1]\n",
            "  [1 1 1 1 1 1]\n",
            "  [1 1 1 1 1 1]\n",
            "  [1 1 1 1 1 1]]]\n"
          ]
        }
      ]
    },
    {
      "cell_type": "code",
      "source": [
        "list=[1,3,4,5]\n",
        "arr=sa.array(list)\n",
        "print(arr)"
      ],
      "metadata": {
        "colab": {
          "base_uri": "https://localhost:8080/"
        },
        "id": "IGNiZZy0_mIc",
        "outputId": "2e7a682a-1cd7-4a1b-f1e8-515fd709c015"
      },
      "execution_count": 9,
      "outputs": [
        {
          "output_type": "stream",
          "name": "stdout",
          "text": [
            "[1 3 4 5]\n"
          ]
        }
      ]
    },
    {
      "cell_type": "code",
      "source": [
        "list =[1,2,4,5],[5,6,7,8]\n",
        "arr =sa.array(list)\n",
        "print(arr)"
      ],
      "metadata": {
        "colab": {
          "base_uri": "https://localhost:8080/"
        },
        "id": "An5bpFX5AJjt",
        "outputId": "50e87e64-3cba-4f83-a56a-20405b8962d5"
      },
      "execution_count": 10,
      "outputs": [
        {
          "output_type": "stream",
          "name": "stdout",
          "text": [
            "[[1 2 4 5]\n",
            " [5 6 7 8]]\n"
          ]
        }
      ]
    },
    {
      "cell_type": "code",
      "source": [
        "arr=sa.arange(1,20)\n",
        "print(arr)"
      ],
      "metadata": {
        "colab": {
          "base_uri": "https://localhost:8080/"
        },
        "id": "elH3ZtgVBC7J",
        "outputId": "d532d47c-1795-4509-c881-7bf0bc6efa70"
      },
      "execution_count": 11,
      "outputs": [
        {
          "output_type": "stream",
          "name": "stdout",
          "text": [
            "[ 1  2  3  4  5  6  7  8  9 10 11 12 13 14 15 16 17 18 19]\n"
          ]
        }
      ]
    },
    {
      "cell_type": "code",
      "source": [
        "arr=sa.arange(1,20,4)\n",
        "print(arr)"
      ],
      "metadata": {
        "colab": {
          "base_uri": "https://localhost:8080/"
        },
        "id": "26H1TWZbBNmr",
        "outputId": "b45bf3c7-0706-477a-ab46-2d02c4e483d4"
      },
      "execution_count": 12,
      "outputs": [
        {
          "output_type": "stream",
          "name": "stdout",
          "text": [
            "[ 1  5  9 13 17]\n"
          ]
        }
      ]
    },
    {
      "cell_type": "code",
      "source": [
        "arr=logspace(1,30,5)\n",
        "print(arr)"
      ],
      "metadata": {
        "colab": {
          "base_uri": "https://localhost:8080/"
        },
        "id": "fsn5YAFnBTfA",
        "outputId": "6b718855-2be7-4cf5-ea1f-ed61dba32221"
      },
      "execution_count": 30,
      "outputs": [
        {
          "output_type": "stream",
          "name": "stdout",
          "text": [
            "[1.00000000e+01 1.77827941e+08 3.16227766e+15 5.62341325e+22\n",
            " 1.00000000e+30]\n"
          ]
        }
      ]
    },
    {
      "cell_type": "code",
      "source": [
        "print(arr[2])"
      ],
      "metadata": {
        "colab": {
          "base_uri": "https://localhost:8080/"
        },
        "id": "nsBfABsFBjVX",
        "outputId": "1d14cbca-49c7-4432-eb00-4262891c4892"
      },
      "execution_count": 32,
      "outputs": [
        {
          "output_type": "stream",
          "name": "stdout",
          "text": [
            "3162277660168379.5\n"
          ]
        }
      ]
    },
    {
      "cell_type": "code",
      "source": [
        "matrix = sa.full(5,6)\n",
        "print(matrix)"
      ],
      "metadata": {
        "colab": {
          "base_uri": "https://localhost:8080/"
        },
        "id": "UUHKLsQWDazn",
        "outputId": "8e5d61ef-6e08-4b88-a6f2-e22c2a855b16"
      },
      "execution_count": 19,
      "outputs": [
        {
          "output_type": "stream",
          "name": "stdout",
          "text": [
            "[6 6 6 6 6]\n"
          ]
        }
      ]
    },
    {
      "cell_type": "code",
      "source": [
        "matrix = sa.full((3,2),5)\n",
        "print(matrix)"
      ],
      "metadata": {
        "colab": {
          "base_uri": "https://localhost:8080/"
        },
        "id": "g43X7qjBH3NO",
        "outputId": "0185001d-ce47-4021-a0b0-eefaa3f08161"
      },
      "execution_count": 22,
      "outputs": [
        {
          "output_type": "stream",
          "name": "stdout",
          "text": [
            "[[5 5]\n",
            " [5 5]\n",
            " [5 5]]\n"
          ]
        }
      ]
    },
    {
      "cell_type": "code",
      "source": [
        "matrix= sa.eye(3)\n",
        "print(matrix)\n"
      ],
      "metadata": {
        "colab": {
          "base_uri": "https://localhost:8080/"
        },
        "id": "79MQeXQ5IkvG",
        "outputId": "641fcf1b-eb59-4a09-934c-8de57578073c"
      },
      "execution_count": 33,
      "outputs": [
        {
          "output_type": "stream",
          "name": "stdout",
          "text": [
            "[[1. 0. 0.]\n",
            " [0. 1. 0.]\n",
            " [0. 0. 1.]]\n"
          ]
        }
      ]
    },
    {
      "cell_type": "code",
      "source": [
        "mat = sa.diag([1,3,4])\n",
        "print(mat)"
      ],
      "metadata": {
        "colab": {
          "base_uri": "https://localhost:8080/"
        },
        "id": "6hGngK0zJaTP",
        "outputId": "ceb39041-fdc5-41d0-c39b-c1c25c813885"
      },
      "execution_count": 35,
      "outputs": [
        {
          "output_type": "stream",
          "name": "stdout",
          "text": [
            "[[1 0 0]\n",
            " [0 3 0]\n",
            " [0 0 4]]\n"
          ]
        }
      ]
    },
    {
      "cell_type": "code",
      "source": [
        "arr = sa.random.rand(6)\n",
        "print(arr)"
      ],
      "metadata": {
        "colab": {
          "base_uri": "https://localhost:8080/"
        },
        "id": "3Bs0JO6UJ11E",
        "outputId": "e9c724d0-dd0f-4419-b6d2-8b09ae9677da"
      },
      "execution_count": 36,
      "outputs": [
        {
          "output_type": "stream",
          "name": "stdout",
          "text": [
            "[0.33155834 0.32526093 0.19804766 0.77433983 0.36965516 0.0723654 ]\n"
          ]
        }
      ]
    },
    {
      "cell_type": "code",
      "source": [
        "arr = sa.random.rand(6,5)\n",
        "print(arr)"
      ],
      "metadata": {
        "colab": {
          "base_uri": "https://localhost:8080/"
        },
        "id": "rXkQIGW_KLXq",
        "outputId": "e707a0fd-9aa1-4cbc-912e-66254fc8df7a"
      },
      "execution_count": 37,
      "outputs": [
        {
          "output_type": "stream",
          "name": "stdout",
          "text": [
            "[[0.65610777 0.60968114 0.23527392 0.81283177 0.96959976]\n",
            " [0.41817931 0.99979287 0.83603963 0.97963213 0.11079221]\n",
            " [0.38436545 0.21771953 0.40344052 0.53978856 0.36105097]\n",
            " [0.94383917 0.64034736 0.66284669 0.70844157 0.79011125]\n",
            " [0.86780127 0.5605491  0.0514593  0.05034559 0.3215884 ]\n",
            " [0.48877396 0.22306071 0.48327706 0.07416828 0.26961371]]\n"
          ]
        }
      ]
    },
    {
      "cell_type": "code",
      "source": [
        "arr = sa.random.randn(4,6,2)\n",
        "print(arr)"
      ],
      "metadata": {
        "colab": {
          "base_uri": "https://localhost:8080/"
        },
        "id": "zSIhAOoDKSXB",
        "outputId": "ad4cea98-3f68-42fe-99db-1be0c54a53ac"
      },
      "execution_count": 41,
      "outputs": [
        {
          "output_type": "stream",
          "name": "stdout",
          "text": [
            "[[[ 0.31416939 -0.73299364]\n",
            "  [ 1.71899257  0.51011513]\n",
            "  [-0.45710294  0.33201377]\n",
            "  [ 0.10794231  0.33945057]\n",
            "  [-0.03065015  1.66570626]\n",
            "  [-0.7810775   1.22316411]]\n",
            "\n",
            " [[ 2.30697317 -1.23382307]\n",
            "  [ 0.46551964  1.10746386]\n",
            "  [ 0.85491201  1.12356118]\n",
            "  [ 0.78837798  1.39350032]\n",
            "  [-1.60919991 -0.66892219]\n",
            "  [-0.89905047 -0.63730241]]\n",
            "\n",
            " [[-1.50110784  0.76408194]\n",
            "  [ 1.30651707  0.32769465]\n",
            "  [ 0.54009863  0.91304683]\n",
            "  [-0.98090817 -1.28220758]\n",
            "  [ 2.39425392  1.19612153]\n",
            "  [-2.19825902  0.60883107]]\n",
            "\n",
            " [[-0.21641846 -0.12347693]\n",
            "  [ 0.15255167 -1.06649573]\n",
            "  [ 1.4084649  -0.46243866]\n",
            "  [-0.90072246  0.14092524]\n",
            "  [-1.45852675 -1.25962433]\n",
            "  [-0.12104479  1.53214096]]]\n"
          ]
        }
      ]
    },
    {
      "cell_type": "code",
      "source": [
        "arr = sa.random.randint(5,6,6)\n",
        "print(arr)"
      ],
      "metadata": {
        "colab": {
          "base_uri": "https://localhost:8080/"
        },
        "id": "Ts9hgQ_XKlL5",
        "outputId": "9e857f0a-b6f3-4515-bc73-d9b523606358"
      },
      "execution_count": 42,
      "outputs": [
        {
          "output_type": "stream",
          "name": "stdout",
          "text": [
            "[5 5 5 5 5 5]\n"
          ]
        }
      ]
    }
  ]
}